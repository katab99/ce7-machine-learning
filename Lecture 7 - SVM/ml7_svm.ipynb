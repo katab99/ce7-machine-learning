{
 "cells": [
  {
   "cell_type": "code",
   "execution_count": 1,
   "metadata": {},
   "outputs": [],
   "source": [
    "from scipy.io import loadmat\n",
    "import numpy as np\n",
    "import re"
   ]
  },
  {
   "cell_type": "markdown",
   "metadata": {},
   "source": [
    "Load data"
   ]
  },
  {
   "cell_type": "code",
   "execution_count": 2,
   "metadata": {},
   "outputs": [],
   "source": [
    "file=\"mnist_all.mat\"\n",
    "data = loadmat(file)"
   ]
  },
  {
   "cell_type": "code",
   "execution_count": 3,
   "metadata": {},
   "outputs": [
    {
     "name": "stdout",
     "output_type": "stream",
     "text": [
      "dict_keys(['__header__', '__version__', '__globals__', 'train0', 'test0', 'train1', 'test1', 'train2', 'test2', 'train3', 'test3', 'train4', 'test4', 'train5', 'test5', 'train6', 'test6', 'train7', 'test7', 'train8', 'test8', 'train9', 'test9'])\n"
     ]
    }
   ],
   "source": [
    "# to get dictionary keys\n",
    "print(data.keys())"
   ]
  },
  {
   "cell_type": "code",
   "execution_count": 4,
   "metadata": {},
   "outputs": [],
   "source": [
    "# delete unneceserry keys-values\n",
    "del data['__header__']\n",
    "del data['__version__']\n",
    "del data['__globals__']"
   ]
  },
  {
   "cell_type": "markdown",
   "metadata": {},
   "source": [
    "Create dataset"
   ]
  },
  {
   "cell_type": "code",
   "execution_count": 5,
   "metadata": {},
   "outputs": [],
   "source": [
    "# get the names of datasets\n",
    "train_liszt = re.findall(\"train.\", ' '.join(list(data.keys())))\n",
    "test_liszt = re.findall(\"test.\", ' '.join(list(data.keys())))\n"
   ]
  },
  {
   "cell_type": "code",
   "execution_count": 50,
   "metadata": {},
   "outputs": [],
   "source": [
    "# dict: imported data\n",
    "# col: column number\n",
    "\n",
    "def split_data(dict):\n",
    "    col = list(dict.items())[0][1].shape[1]\n",
    "    \n",
    "    # return values\n",
    "    train_set = np.empty([1, col])\n",
    "    test_set = np.empty([1, col])\n",
    "\n",
    "    train_target = np.empty([1,])\n",
    "    test_target = np.empty([1,])\n",
    "    \n",
    "    for key in dict:\n",
    "        row = int(data[key].shape[0] * 0.1) # amount of data from a target\n",
    "        \n",
    "        # get training data and targets\n",
    "        if (key in train_liszt):\n",
    "            train = data[key][:row] # current \n",
    "            train_set = np.append(train_set, train, axis = 0)\n",
    "            \n",
    "            num_tr = int(key[5]) * np.ones(len(data[key][:row])) # key[5]: TRAIN (5 letters) + number of the target\n",
    "            train_target = np.append(train_target, num_tr, axis=0)\n",
    "\n",
    "        # get test data and targets\n",
    "        if (key in test_liszt):\n",
    "            test = data[key][:row]\n",
    "            test_set = np.append(test_set, test, axis = 0)\n",
    "\n",
    "            num_tst = int(key[4]) * np.ones(len(data[key][:row])) # key[4]: TEST (4 letters) + number of the target\n",
    "            test_target = np.append(test_target, num_tst, axis=0)\n",
    "                    \n",
    "    train_set = np.delete(train_set, 0, axis=0)\n",
    "    test_set = np.delete(test_set, 0, axis=0)\n",
    "    train_target = np.delete(train_target, 0, axis=0)\n",
    "    test_target = np.delete(test_target, 0, axis=0)\n",
    "\n",
    "    return train_set, train_target, test_set, test_target"
   ]
  },
  {
   "cell_type": "code",
   "execution_count": 51,
   "metadata": {},
   "outputs": [],
   "source": [
    "# X_train - train data, y_train - train target\n",
    "# X_test - test data, y_test - test target\n",
    "X_train_, y_train_, X_test_, y_test_ = split_data(data)"
   ]
  },
  {
   "cell_type": "markdown",
   "metadata": {},
   "source": [
    "SVM"
   ]
  },
  {
   "cell_type": "code",
   "execution_count": 53,
   "metadata": {},
   "outputs": [],
   "source": [
    "from sklearn import svm\n",
    "\n",
    "clf = svm.SVC(kernel='linear')\n",
    "clf.fit(X_train_, y_train_)\n",
    "y_pred_ = clf.predict(X_test_)"
   ]
  },
  {
   "cell_type": "code",
   "execution_count": 54,
   "metadata": {},
   "outputs": [
    {
     "name": "stdout",
     "output_type": "stream",
     "text": [
      "Accuracy: 0.8945783132530121\n"
     ]
    }
   ],
   "source": [
    "# import scikit-learn metrics module for accuracy calculation\n",
    "from sklearn import metrics\n",
    "\n",
    "# model accuracy: how often is the classifier correct?\n",
    "print(\"Accuracy:\",metrics.accuracy_score(y_test_, y_pred_))"
   ]
  }
 ],
 "metadata": {
  "kernelspec": {
   "display_name": "Python 3.9.13 ('opencv')",
   "language": "python",
   "name": "python3"
  },
  "language_info": {
   "codemirror_mode": {
    "name": "ipython",
    "version": 3
   },
   "file_extension": ".py",
   "mimetype": "text/x-python",
   "name": "python",
   "nbconvert_exporter": "python",
   "pygments_lexer": "ipython3",
   "version": "3.9.13"
  },
  "orig_nbformat": 4,
  "vscode": {
   "interpreter": {
    "hash": "521a849b5cbd95154bc24f9bcb5a00007877c6ac691bfafb5d64741343976c09"
   }
  }
 },
 "nbformat": 4,
 "nbformat_minor": 2
}
